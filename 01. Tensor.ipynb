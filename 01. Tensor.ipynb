{
 "cells": [
  {
   "cell_type": "markdown",
   "metadata": {},
   "source": [
    "# Tensor의 random 선언"
   ]
  },
  {
   "cell_type": "code",
   "execution_count": 1,
   "metadata": {},
   "outputs": [],
   "source": [
    "import torch\n",
    "import numpy as np"
   ]
  },
  {
   "cell_type": "markdown",
   "metadata": {},
   "source": [
    "### [0,1), 0~1사이의 Uniform distribution random 값으로 선언"
   ]
  },
  {
   "cell_type": "code",
   "execution_count": 2,
   "metadata": {},
   "outputs": [
    {
     "name": "stdout",
     "output_type": "stream",
     "text": [
      "\n",
      " 0.4895  0.6493  0.4671\n",
      " 0.6286  0.3212  0.4192\n",
      " 0.0319  0.2269  0.4889\n",
      "[torch.FloatTensor of size 3x3]\n",
      "\n"
     ]
    }
   ],
   "source": [
    "a1 = torch.rand(3,3) \n",
    "print(a1)"
   ]
  },
  {
   "cell_type": "markdown",
   "metadata": {},
   "source": [
    "### Z(0,1), 평균이 0이고 분산이 1인 Normal distribution random 값으로 선언"
   ]
  },
  {
   "cell_type": "code",
   "execution_count": 3,
   "metadata": {},
   "outputs": [
    {
     "name": "stdout",
     "output_type": "stream",
     "text": [
      "\n",
      " 1.8956 -1.2530 -0.3635\n",
      " 0.0051 -0.0470 -1.3748\n",
      "-0.0265  0.4448  1.3507\n",
      "[torch.FloatTensor of size 3x3]\n",
      "\n"
     ]
    }
   ],
   "source": [
    "b1 = torch.randn(3,3) \n",
    "print(b1)"
   ]
  },
  {
   "cell_type": "markdown",
   "metadata": {},
   "source": [
    "***"
   ]
  },
  {
   "cell_type": "markdown",
   "metadata": {},
   "source": [
    "# Numpy -> Tensor, Tensor -> Numpy"
   ]
  },
  {
   "cell_type": "markdown",
   "metadata": {},
   "source": [
    "### Numpy -> Tensor"
   ]
  },
  {
   "cell_type": "code",
   "execution_count": 4,
   "metadata": {},
   "outputs": [
    {
     "name": "stdout",
     "output_type": "stream",
     "text": [
      "[[1 2 3 4]\n",
      " [5 6 7 8]]\n"
     ]
    }
   ],
   "source": [
    "a2 = np.array([[1,2,3,4],[5,6,7,8]]) \n",
    "print(a2)"
   ]
  },
  {
   "cell_type": "code",
   "execution_count": 5,
   "metadata": {},
   "outputs": [
    {
     "name": "stdout",
     "output_type": "stream",
     "text": [
      "\n",
      " 1  2  3  4\n",
      " 5  6  7  8\n",
      "[torch.FloatTensor of size 2x4]\n",
      "\n"
     ]
    }
   ],
   "source": [
    "b2 = torch.Tensor(a2)\n",
    "print(b2)"
   ]
  },
  {
   "cell_type": "markdown",
   "metadata": {},
   "source": [
    "### Tensor -> Numpy"
   ]
  },
  {
   "cell_type": "code",
   "execution_count": 6,
   "metadata": {},
   "outputs": [
    {
     "name": "stdout",
     "output_type": "stream",
     "text": [
      "\n",
      " 0.0239  0.5365  0.1191\n",
      " 0.3408  0.3618  0.2630\n",
      " 0.5905  0.8621  0.8219\n",
      "[torch.FloatTensor of size 3x3]\n",
      "\n"
     ]
    }
   ],
   "source": [
    "a3 = torch.rand(3,3)\n",
    "print(a3)"
   ]
  },
  {
   "cell_type": "code",
   "execution_count": 7,
   "metadata": {},
   "outputs": [
    {
     "name": "stdout",
     "output_type": "stream",
     "text": [
      "[[ 0.02386206  0.53646123  0.11912364]\n",
      " [ 0.34078413  0.36176103  0.26300836]\n",
      " [ 0.59049612  0.86214596  0.82185543]]\n"
     ]
    }
   ],
   "source": [
    "b3 = a3.numpy()\n",
    "print(b3)"
   ]
  },
  {
   "cell_type": "markdown",
   "metadata": {},
   "source": [
    "***"
   ]
  },
  {
   "cell_type": "markdown",
   "metadata": {},
   "source": [
    "# Tensor의 형태변환"
   ]
  },
  {
   "cell_type": "code",
   "execution_count": 8,
   "metadata": {},
   "outputs": [
    {
     "name": "stdout",
     "output_type": "stream",
     "text": [
      "\n",
      " 0.0746  0.6314  0.2176\n",
      " 0.7523  0.5827  0.0072\n",
      " 0.1738  0.6780  0.4135\n",
      "[torch.FloatTensor of size 3x3]\n",
      "\n"
     ]
    }
   ],
   "source": [
    "a4 = torch.rand(3,3)\n",
    "print(a4)"
   ]
  },
  {
   "cell_type": "code",
   "execution_count": 9,
   "metadata": {},
   "outputs": [
    {
     "name": "stdout",
     "output_type": "stream",
     "text": [
      "\n",
      "(0 ,0 ,.,.) = \n",
      "  0.0746  0.6314  0.2176\n",
      "  0.7523  0.5827  0.0072\n",
      "  0.1738  0.6780  0.4135\n",
      "[torch.FloatTensor of size 1x1x3x3]\n",
      "\n"
     ]
    }
   ],
   "source": [
    "b4 = a4.view(1,1,3,3)\n",
    "print(b4)"
   ]
  },
  {
   "cell_type": "markdown",
   "metadata": {},
   "source": [
    "***"
   ]
  },
  {
   "cell_type": "markdown",
   "metadata": {},
   "source": [
    "# Tensor 합치기"
   ]
  },
  {
   "cell_type": "code",
   "execution_count": 10,
   "metadata": {},
   "outputs": [
    {
     "name": "stdout",
     "output_type": "stream",
     "text": [
      "\n",
      "(0 ,0 ,.,.) = \n",
      " -0.4311  0.2055  0.4454\n",
      "  0.7313  0.1510  0.5992\n",
      "  0.5800 -0.5691  1.1705\n",
      "[torch.FloatTensor of size 1x1x3x3]\n",
      "\n",
      "\n",
      "(0 ,0 ,.,.) = \n",
      "  1.1027 -0.0847 -0.5226\n",
      "  0.0740 -0.5331 -1.0769\n",
      "  0.6502  1.1770 -0.2568\n",
      "[torch.FloatTensor of size 1x1x3x3]\n",
      "\n"
     ]
    }
   ],
   "source": [
    "a5 = torch.randn(1,1,3,3)\n",
    "b5 = torch.randn(1,1,3,3)\n",
    "print(a5)\n",
    "print(b5)"
   ]
  },
  {
   "cell_type": "markdown",
   "metadata": {},
   "source": [
    "### torch.cat((Tensor_A, Tensor_B), dim)"
   ]
  },
  {
   "cell_type": "code",
   "execution_count": 11,
   "metadata": {},
   "outputs": [
    {
     "name": "stdout",
     "output_type": "stream",
     "text": [
      "\n",
      "(0 ,0 ,.,.) = \n",
      " -0.4311  0.2055  0.4454\n",
      "  0.7313  0.1510  0.5992\n",
      "  0.5800 -0.5691  1.1705\n",
      "\n",
      "(1 ,0 ,.,.) = \n",
      "  1.1027 -0.0847 -0.5226\n",
      "  0.0740 -0.5331 -1.0769\n",
      "  0.6502  1.1770 -0.2568\n",
      "[torch.FloatTensor of size 2x1x3x3]\n",
      "\n"
     ]
    }
   ],
   "source": [
    "c = torch.cat((a5,b5), 0)\n",
    "print(c)"
   ]
  },
  {
   "cell_type": "code",
   "execution_count": 12,
   "metadata": {},
   "outputs": [
    {
     "name": "stdout",
     "output_type": "stream",
     "text": [
      "\n",
      "(0 ,0 ,.,.) = \n",
      " -0.4311  0.2055  0.4454\n",
      "  0.7313  0.1510  0.5992\n",
      "  0.5800 -0.5691  1.1705\n",
      "\n",
      "(0 ,1 ,.,.) = \n",
      "  1.1027 -0.0847 -0.5226\n",
      "  0.0740 -0.5331 -1.0769\n",
      "  0.6502  1.1770 -0.2568\n",
      "[torch.FloatTensor of size 1x2x3x3]\n",
      "\n"
     ]
    }
   ],
   "source": [
    "d = torch.cat((a5,b5), 1)\n",
    "print(d)"
   ]
  },
  {
   "cell_type": "code",
   "execution_count": 13,
   "metadata": {},
   "outputs": [
    {
     "name": "stdout",
     "output_type": "stream",
     "text": [
      "\n",
      "(0 ,0 ,.,.) = \n",
      " -0.4311  0.2055  0.4454\n",
      "  0.7313  0.1510  0.5992\n",
      "  0.5800 -0.5691  1.1705\n",
      "  1.1027 -0.0847 -0.5226\n",
      "  0.0740 -0.5331 -1.0769\n",
      "  0.6502  1.1770 -0.2568\n",
      "[torch.FloatTensor of size 1x1x6x3]\n",
      "\n"
     ]
    }
   ],
   "source": [
    "e = torch.cat((a5,b5), 2)\n",
    "print(e)"
   ]
  },
  {
   "cell_type": "code",
   "execution_count": 14,
   "metadata": {},
   "outputs": [
    {
     "name": "stdout",
     "output_type": "stream",
     "text": [
      "\n",
      "(0 ,0 ,.,.) = \n",
      " -0.4311  0.2055  0.4454  1.1027 -0.0847 -0.5226\n",
      "  0.7313  0.1510  0.5992  0.0740 -0.5331 -1.0769\n",
      "  0.5800 -0.5691  1.1705  0.6502  1.1770 -0.2568\n",
      "[torch.FloatTensor of size 1x1x3x6]\n",
      "\n"
     ]
    }
   ],
   "source": [
    "f = torch.cat((a5,b5), 3)\n",
    "print(f)"
   ]
  },
  {
   "cell_type": "markdown",
   "metadata": {},
   "source": [
    "***"
   ]
  },
  {
   "cell_type": "markdown",
   "metadata": {},
   "source": [
    "# Tensor 계산을 GPU로"
   ]
  },
  {
   "cell_type": "code",
   "execution_count": 15,
   "metadata": {},
   "outputs": [
    {
     "name": "stdout",
     "output_type": "stream",
     "text": [
      "\n",
      " 0.8949  0.5610  0.6727\n",
      " 0.9176  0.5765  0.7993\n",
      " 0.3609  0.6836  0.4628\n",
      "[torch.FloatTensor of size 3x3]\n",
      "\n",
      "\n",
      " 0.7289  0.3471  0.8449\n",
      " 0.0891  0.0057  0.3793\n",
      " 0.9546  0.8606  0.2992\n",
      "[torch.FloatTensor of size 3x3]\n",
      "\n"
     ]
    }
   ],
   "source": [
    "a6 = torch.rand(3,3)\n",
    "b6 = torch.rand(3,3)\n",
    "\n",
    "print(a6)\n",
    "print(b6)"
   ]
  },
  {
   "cell_type": "code",
   "execution_count": 16,
   "metadata": {},
   "outputs": [
    {
     "name": "stdout",
     "output_type": "stream",
     "text": [
      "\n",
      " 1.6238  0.9080  1.5176\n",
      " 1.0067  0.5822  1.1787\n",
      " 1.3155  1.5442  0.7620\n",
      "[torch.FloatTensor of size 3x3]\n",
      "\n"
     ]
    }
   ],
   "source": [
    "# a6 = a6.cuda()\n",
    "# b6 = b6.cuda()\n",
    "\n",
    "sum = a6 + b6\n",
    "print(sum)"
   ]
  },
  {
   "cell_type": "markdown",
   "metadata": {},
   "source": [
    "***"
   ]
  },
  {
   "cell_type": "markdown",
   "metadata": {},
   "source": [
    "# 그 외"
   ]
  },
  {
   "cell_type": "code",
   "execution_count": 17,
   "metadata": {},
   "outputs": [
    {
     "name": "stdout",
     "output_type": "stream",
     "text": [
      "\n",
      " 0.2286  0.7413  0.0533\n",
      " 0.2650  0.7164  0.8704\n",
      " 0.0463  0.7318  0.2276\n",
      "[torch.FloatTensor of size 3x3]\n",
      "\n"
     ]
    }
   ],
   "source": [
    "a7 = torch.rand(3,3)\n",
    "print(a7)"
   ]
  },
  {
   "cell_type": "code",
   "execution_count": 18,
   "metadata": {},
   "outputs": [
    {
     "name": "stdout",
     "output_type": "stream",
     "text": [
      "\n",
      " 0.7289  0.3471  0.8449\n",
      " 0.0891  0.0057  0.3793\n",
      " 0.9546  0.8606  0.2992\n",
      "[torch.FloatTensor of size 3x3]\n",
      "\n"
     ]
    }
   ],
   "source": [
    "b7 = a7.mean()\n",
    "print(b6)"
   ]
  },
  {
   "cell_type": "code",
   "execution_count": 19,
   "metadata": {},
   "outputs": [
    {
     "name": "stdout",
     "output_type": "stream",
     "text": [
      "3.880752444267273\n"
     ]
    }
   ],
   "source": [
    "b7 = a7.sum()\n",
    "print(b7)"
   ]
  }
 ],
 "metadata": {
  "kernelspec": {
   "display_name": "Python 3",
   "language": "python",
   "name": "python3"
  },
  "language_info": {
   "codemirror_mode": {
    "name": "ipython",
    "version": 3
   },
   "file_extension": ".py",
   "mimetype": "text/x-python",
   "name": "python",
   "nbconvert_exporter": "python",
   "pygments_lexer": "ipython3",
   "version": "3.5.2"
  }
 },
 "nbformat": 4,
 "nbformat_minor": 2
}
