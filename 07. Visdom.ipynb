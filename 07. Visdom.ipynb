{
 "cells": [
  {
   "cell_type": "markdown",
   "metadata": {},
   "source": [
    "이번에는 'Visdom'에 대해서 정리해보겠습니다."
   ]
  },
  {
   "cell_type": "markdown",
   "metadata": {},
   "source": [
    "정보는\n",
    "* https://github.com/facebookresearch/visdom\n",
    "* https://github.com/GunhoChoi/PyTorch-FastCampus/tree/master/02_Regression%26NN"
   ]
  },
  {
   "cell_type": "markdown",
   "metadata": {},
   "source": [
    "참고하시면 좋을 것 같습니다."
   ]
  },
  {
   "cell_type": "markdown",
   "metadata": {},
   "source": [
    "Linux에서 Visdom을 설치하는 방법은 다음과 같습니다.\n",
    "- pip install visdom"
   ]
  },
  {
   "cell_type": "markdown",
   "metadata": {},
   "source": [
    "Visdom을 실행하는 방법은 다음과 같습니다.\n",
    "- python -m visdom.server"
   ]
  },
  {
   "cell_type": "markdown",
   "metadata": {},
   "source": [
    "# Visdom으로 할 수 있는 것들"
   ]
  },
  {
   "cell_type": "markdown",
   "metadata": {},
   "source": [
    "### Basics"
   ]
  },
  {
   "cell_type": "markdown",
   "metadata": {},
   "source": [
    "Visdom offers the following basic visualization funcions:\n",
    "- vis.image : image\n",
    "- vis.images : list of images\n",
    "- vis.text : arbitrary HTML\n",
    "- vis.audio : audio\n",
    "- vis.video : videos\n",
    "- vis.svg : SVG object\n",
    "- vis.matplot : matplotlib plot\n",
    "- vis.save : serialize state server-side"
   ]
  },
  {
   "cell_type": "markdown",
   "metadata": {},
   "source": [
    "### Plotting"
   ]
  },
  {
   "cell_type": "markdown",
   "metadata": {},
   "source": [
    "We have wrapped several common plot types to make creating basic visualizations easily. These visualizations are powered by Plotly. The following API is currently supported:\n",
    "- vis.scatter : 2D or 3D scatter plots\n",
    "- vis.line : line plots\n",
    "- vis.updateTrace : update existing line / scatter plots\n",
    "- vis.stem : stem plots\n",
    "- vis.heatmap : heatmap plots\n",
    "- vis.bar : bar graphs\n",
    "- vis.histogram : histograms\n",
    "- vis.boxplot : boxplots\n",
    "- vis.surf : surface plots\n",
    "- vis.contour : contour plots\n",
    "- vis.quiver : quiver plots\n",
    "- vis.mesh : mesh plots"
   ]
  },
  {
   "cell_type": "markdown",
   "metadata": {},
   "source": [
    "이번 자료에서는 **Basics와 Plotting에서 vis.line** 만 정리를 할 것입니다."
   ]
  },
  {
   "cell_type": "markdown",
   "metadata": {},
   "source": [
    "먼저 기본 import부터 작성하겠습니다."
   ]
  },
  {
   "cell_type": "code",
   "execution_count": 1,
   "metadata": {},
   "outputs": [],
   "source": [
    "import torch \n",
    "import torch.nn as nn \n",
    "import torch.nn.functional as F\n",
    "import torch.optim as optim\n",
    "from torch.autograd import Variable \n",
    "from torch.utils.data import Dataset, DataLoader \n",
    "\n",
    "import numpy as np \n",
    "import visdom # visdom을 사용하려면 다음과 같이 import를 하면 됩니다.\n",
    "\n",
    "import torchvision \n",
    "import torchvision.transforms as transforms \n",
    "import torchvision.datasets as datasets\n",
    "\n",
    "# import matplotlib \n",
    "# import matplotlib.pyplot as plt "
   ]
  },
  {
   "cell_type": "markdown",
   "metadata": {},
   "source": [
    "그리고 visdom을 사용하기 편하게 변수로 설정하겠습니다."
   ]
  },
  {
   "cell_type": "code",
   "execution_count": 2,
   "metadata": {},
   "outputs": [],
   "source": [
    "vis = visdom.Visdom()"
   ]
  },
  {
   "cell_type": "markdown",
   "metadata": {},
   "source": [
    "***"
   ]
  },
  {
   "cell_type": "markdown",
   "metadata": {},
   "source": [
    "# Basics"
   ]
  },
  {
   "cell_type": "markdown",
   "metadata": {},
   "source": [
    "### Text"
   ]
  },
  {
   "cell_type": "code",
   "execution_count": 3,
   "metadata": {},
   "outputs": [],
   "source": [
    "textwindow = vis.text('Hello Pytorch')"
   ]
  },
  {
   "cell_type": "markdown",
   "metadata": {},
   "source": [
    "띄어둔 Local host에 가시면 visdom을 통해 출력이 된 것을 보실 수 있습니다."
   ]
  },
  {
   "cell_type": "markdown",
   "metadata": {},
   "source": [
    "### Image & Images"
   ]
  },
  {
   "cell_type": "code",
   "execution_count": 4,
   "metadata": {},
   "outputs": [],
   "source": [
    "transform = transforms.Compose([transforms.ToTensor(), transforms.Normalize((0.5, 0.5, 0.5), (0.5, 0.5, 0.5))])\n",
    "\n",
    "trainset = torchvision.datasets.MNIST(root='./mnist_data',\n",
    "                                                            train=True,\n",
    "                                                            download=True,\n",
    "                                                            transform=transform)\n",
    " \n",
    "testset = torchvision.datasets.MNIST(root='./mnist_data',\n",
    "                                                            train=False,\n",
    "                                                            download=True,\n",
    "                                                            transform=transform)\n",
    "\n",
    "trainloader = DataLoader(trainset, batch_size=8, shuffle=True, num_workers=2)\n",
    "testloader = DataLoader(testset, batch_size=8, shuffle=False, num_workers=2)"
   ]
  },
  {
   "cell_type": "markdown",
   "metadata": {},
   "source": [
    "visdom으로 Image를 확인해보겠습니다."
   ]
  },
  {
   "cell_type": "code",
   "execution_count": 5,
   "metadata": {},
   "outputs": [],
   "source": [
    "for i, data in enumerate(trainloader):\n",
    "    img, label = data\n",
    "    vis.image(img[0]) # Image 하나만 보는 방법\n",
    "    vis.images(img) # Image들을 다 보는 방법\n",
    "    break"
   ]
  },
  {
   "cell_type": "code",
   "execution_count": 6,
   "metadata": {},
   "outputs": [],
   "source": [
    "for i, data in enumerate(testloader):\n",
    "    img, label = data\n",
    "    vis.image(img[0])\n",
    "    vis.images(img)\n",
    "    break"
   ]
  },
  {
   "cell_type": "markdown",
   "metadata": {},
   "source": [
    "***"
   ]
  },
  {
   "cell_type": "markdown",
   "metadata": {},
   "source": [
    "# Line plot & Line plot Update in Plotting"
   ]
  },
  {
   "cell_type": "markdown",
   "metadata": {},
   "source": [
    "### Line plot을 어떻게 그릴까요?"
   ]
  },
  {
   "cell_type": "markdown",
   "metadata": {},
   "source": [
    "Y값만 넣어서 그래프를 그려보겠습니다. 그래프를 보면 Y값만 넣었기 때문에 **X값은 [0,1]사이** 로 정의가 됩니다."
   ]
  },
  {
   "cell_type": "code",
   "execution_count": 7,
   "metadata": {},
   "outputs": [],
   "source": [
    "plt = vis.line(Y=torch.randn(5))"
   ]
  },
  {
   "cell_type": "markdown",
   "metadata": {},
   "source": [
    "이번에는 Y값과 X값을 같이 넣어서 그래프를 그려보겠습니다. X를 [0,1,2,3,4]로 넣었기 때문에 적절한 값이 그려지는 것을 보실 수 있습니다."
   ]
  },
  {
   "cell_type": "code",
   "execution_count": 8,
   "metadata": {},
   "outputs": [],
   "source": [
    "plot = vis.line(Y=torch.randn(5), X=np.array([0,1,2,3,4]))"
   ]
  },
  {
   "cell_type": "markdown",
   "metadata": {},
   "source": [
    "### Line plot은 어떻게 업데이트를 할까요?"
   ]
  },
  {
   "cell_type": "code",
   "execution_count": 9,
   "metadata": {},
   "outputs": [
    {
     "data": {
      "text/plain": [
       "'window_362436b4c36324'"
      ]
     },
     "execution_count": 9,
     "metadata": {},
     "output_type": "execute_result"
    }
   ],
   "source": [
    "vis.line(Y=torch.randn(1), X=np.array([5]), win=plot, update='append')"
   ]
  },
  {
   "cell_type": "markdown",
   "metadata": {},
   "source": [
    "In [8]에서 그렸던 plot을 업데이트할 변수명 \"win=plot\"으로 넣어주시고, \"update='append'\"으로 적어주시면"
   ]
  },
  {
   "cell_type": "markdown",
   "metadata": {},
   "source": [
    "X축 5번에 새로운 그래프가 그려지는 것을 보실 수 있습니다."
   ]
  },
  {
   "cell_type": "markdown",
   "metadata": {},
   "source": [
    "### 계속 업데이트는 어떻게 할까요?"
   ]
  },
  {
   "cell_type": "code",
   "execution_count": 10,
   "metadata": {},
   "outputs": [],
   "source": [
    "for i in range(5000):\n",
    "    vis.line(Y=torch.randn(1), X=np.array([i+5]), win=plot, update='append')"
   ]
  },
  {
   "cell_type": "markdown",
   "metadata": {},
   "source": [
    "아까 4번까지는 그렸기 때문에 'i+5'로 하여 range를 5000까지 나타내보겠습니다. visdom으로 가시면 5000까지 그래프가 그려지는 것을 보실 수 있습니다."
   ]
  },
  {
   "cell_type": "markdown",
   "metadata": {},
   "source": [
    "### 하나의 Line plot에 두 개 이상의 그래프 그리기"
   ]
  },
  {
   "cell_type": "markdown",
   "metadata": {},
   "source": [
    "두 개의 그래프를 그리고 싶다면 'Y=torch.randn(10, **2** )'를 해주시고, column_stack이라는 것을 이용하여 그릴 것을 두 가지를 넣어주시면 됩니다."
   ]
  },
  {
   "cell_type": "code",
   "execution_count": 11,
   "metadata": {},
   "outputs": [
    {
     "data": {
      "text/plain": [
       "'window_3624374bce72f2'"
      ]
     },
     "execution_count": 11,
     "metadata": {},
     "output_type": "execute_result"
    }
   ],
   "source": [
    "vis.line(Y=torch.randn(10,2), X=np.column_stack((np.arange(0, 10), np.arange(0, 10))))"
   ]
  },
  {
   "cell_type": "markdown",
   "metadata": {},
   "source": [
    "세 개의 그래프는 아래와 같이 적으면 되겠죠?"
   ]
  },
  {
   "cell_type": "code",
   "execution_count": 12,
   "metadata": {},
   "outputs": [
    {
     "data": {
      "text/plain": [
       "'window_3624374dedd65c'"
      ]
     },
     "execution_count": 12,
     "metadata": {},
     "output_type": "execute_result"
    }
   ],
   "source": [
    "vis.line(Y=torch.randn(10,3), X=np.column_stack((np.arange(0, 10), np.arange(0, 10), np.arange(0, 10))))"
   ]
  },
  {
   "cell_type": "markdown",
   "metadata": {},
   "source": [
    "### 그래프 형태 조작 및 정보 추가"
   ]
  },
  {
   "cell_type": "markdown",
   "metadata": {},
   "source": [
    "'opts=dict()'에서 괄호안에 그래프의 정보를 추가할 수 있습니다. 또한 dict안에 'showlegend'를 적으면 표의 범주(범례)를 보일 것인지 말 것인지를 정할 수 있습니다."
   ]
  },
  {
   "cell_type": "code",
   "execution_count": 13,
   "metadata": {},
   "outputs": [
    {
     "data": {
      "text/plain": [
       "'window_3624378af8dee8'"
      ]
     },
     "execution_count": 13,
     "metadata": {},
     "output_type": "execute_result"
    }
   ],
   "source": [
    "vis.line(Y=torch.randn(10,2), X=np.column_stack((np.arange(0, 10), np.arange(0, 10))), opts=dict(title='hello', showlegend=True))"
   ]
  },
  {
   "cell_type": "markdown",
   "metadata": {},
   "source": [
    "'legend'에서 이름까지 보이게 하고 싶으면 다음과 같이 입력하면 됩니다."
   ]
  },
  {
   "cell_type": "code",
   "execution_count": 14,
   "metadata": {},
   "outputs": [
    {
     "data": {
      "text/plain": [
       "'window_36243791f64b3c'"
      ]
     },
     "execution_count": 14,
     "metadata": {},
     "output_type": "execute_result"
    }
   ],
   "source": [
    "vis.line(Y=torch.randn(10,2), X=np.column_stack((np.arange(0, 10), np.arange(0, 10))), \n",
    "         opts=dict(title='hello',\n",
    "                   legend=['1번', '2번'],\n",
    "                   showlegend=True))"
   ]
  }
 ],
 "metadata": {
  "kernelspec": {
   "display_name": "Python 3",
   "language": "python",
   "name": "python3"
  },
  "language_info": {
   "codemirror_mode": {
    "name": "ipython",
    "version": 3
   },
   "file_extension": ".py",
   "mimetype": "text/x-python",
   "name": "python",
   "nbconvert_exporter": "python",
   "pygments_lexer": "ipython3",
   "version": "3.5.2"
  }
 },
 "nbformat": 4,
 "nbformat_minor": 2
}
